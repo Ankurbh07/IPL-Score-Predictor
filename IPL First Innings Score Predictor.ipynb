{
 "cells": [
  {
   "cell_type": "code",
   "execution_count": 23,
   "metadata": {},
   "outputs": [],
   "source": [
    "# Import the files \n",
    "import pandas as pd\n",
    "import pickle \n",
    "import numpy as np\n",
    "from sklearn.preprocessing import OneHotEncoder\n",
    "import warnings\n",
    "warnings.filterwarnings(\"ignore\")"
   ]
  },
  {
   "cell_type": "code",
   "execution_count": 24,
   "metadata": {},
   "outputs": [],
   "source": [
    "# Import data Set\n",
    "df = pd.read_csv(r'C:\\Users\\Lenovo\\Documents\\Live Session\\Cricket\\IPL.csv')"
   ]
  },
  {
   "cell_type": "code",
   "execution_count": 54,
   "metadata": {},
   "outputs": [
    {
     "data": {
      "text/html": [
       "<div>\n",
       "<style scoped>\n",
       "    .dataframe tbody tr th:only-of-type {\n",
       "        vertical-align: middle;\n",
       "    }\n",
       "\n",
       "    .dataframe tbody tr th {\n",
       "        vertical-align: top;\n",
       "    }\n",
       "\n",
       "    .dataframe thead th {\n",
       "        text-align: right;\n",
       "    }\n",
       "</style>\n",
       "<table border=\"1\" class=\"dataframe\">\n",
       "  <thead>\n",
       "    <tr style=\"text-align: right;\">\n",
       "      <th></th>\n",
       "      <th>bat_team</th>\n",
       "      <th>bowl_team</th>\n",
       "      <th>runs</th>\n",
       "      <th>wickets</th>\n",
       "      <th>overs</th>\n",
       "      <th>runs_last_5</th>\n",
       "      <th>wickets_last_5</th>\n",
       "      <th>total</th>\n",
       "      <th>Year</th>\n",
       "      <th>venue</th>\n",
       "    </tr>\n",
       "  </thead>\n",
       "  <tbody>\n",
       "    <tr>\n",
       "      <td>32</td>\n",
       "      <td>Kolkata Knight Riders</td>\n",
       "      <td>Royal Challengers Bangalore</td>\n",
       "      <td>61</td>\n",
       "      <td>0</td>\n",
       "      <td>5.1</td>\n",
       "      <td>59</td>\n",
       "      <td>0</td>\n",
       "      <td>222</td>\n",
       "      <td>2008</td>\n",
       "      <td>M Chinnaswamy Stadium</td>\n",
       "    </tr>\n",
       "    <tr>\n",
       "      <td>33</td>\n",
       "      <td>Kolkata Knight Riders</td>\n",
       "      <td>Royal Challengers Bangalore</td>\n",
       "      <td>61</td>\n",
       "      <td>1</td>\n",
       "      <td>5.2</td>\n",
       "      <td>59</td>\n",
       "      <td>1</td>\n",
       "      <td>222</td>\n",
       "      <td>2008</td>\n",
       "      <td>M Chinnaswamy Stadium</td>\n",
       "    </tr>\n",
       "    <tr>\n",
       "      <td>34</td>\n",
       "      <td>Kolkata Knight Riders</td>\n",
       "      <td>Royal Challengers Bangalore</td>\n",
       "      <td>61</td>\n",
       "      <td>1</td>\n",
       "      <td>5.3</td>\n",
       "      <td>59</td>\n",
       "      <td>1</td>\n",
       "      <td>222</td>\n",
       "      <td>2008</td>\n",
       "      <td>M Chinnaswamy Stadium</td>\n",
       "    </tr>\n",
       "    <tr>\n",
       "      <td>35</td>\n",
       "      <td>Kolkata Knight Riders</td>\n",
       "      <td>Royal Challengers Bangalore</td>\n",
       "      <td>61</td>\n",
       "      <td>1</td>\n",
       "      <td>5.4</td>\n",
       "      <td>59</td>\n",
       "      <td>1</td>\n",
       "      <td>222</td>\n",
       "      <td>2008</td>\n",
       "      <td>M Chinnaswamy Stadium</td>\n",
       "    </tr>\n",
       "    <tr>\n",
       "      <td>36</td>\n",
       "      <td>Kolkata Knight Riders</td>\n",
       "      <td>Royal Challengers Bangalore</td>\n",
       "      <td>61</td>\n",
       "      <td>1</td>\n",
       "      <td>5.5</td>\n",
       "      <td>58</td>\n",
       "      <td>1</td>\n",
       "      <td>222</td>\n",
       "      <td>2008</td>\n",
       "      <td>M Chinnaswamy Stadium</td>\n",
       "    </tr>\n",
       "  </tbody>\n",
       "</table>\n",
       "</div>"
      ],
      "text/plain": [
       "                 bat_team                    bowl_team  runs  wickets  overs  \\\n",
       "32  Kolkata Knight Riders  Royal Challengers Bangalore    61        0    5.1   \n",
       "33  Kolkata Knight Riders  Royal Challengers Bangalore    61        1    5.2   \n",
       "34  Kolkata Knight Riders  Royal Challengers Bangalore    61        1    5.3   \n",
       "35  Kolkata Knight Riders  Royal Challengers Bangalore    61        1    5.4   \n",
       "36  Kolkata Knight Riders  Royal Challengers Bangalore    61        1    5.5   \n",
       "\n",
       "    runs_last_5  wickets_last_5  total  Year                  venue  \n",
       "32           59               0    222  2008  M Chinnaswamy Stadium  \n",
       "33           59               1    222  2008  M Chinnaswamy Stadium  \n",
       "34           59               1    222  2008  M Chinnaswamy Stadium  \n",
       "35           59               1    222  2008  M Chinnaswamy Stadium  \n",
       "36           58               1    222  2008  M Chinnaswamy Stadium  "
      ]
     },
     "execution_count": 54,
     "metadata": {},
     "output_type": "execute_result"
    }
   ],
   "source": [
    "df.head()"
   ]
  },
  {
   "cell_type": "code",
   "execution_count": 26,
   "metadata": {},
   "outputs": [],
   "source": [
    "# Colums to be removed - mid, batsman, bowlerstriker non striker \n",
    "columns_to_remove = ['mid','batsman','bowler','striker','non-striker']\n",
    "df.drop(labels=columns_to_remove,inplace=True,axis=1)"
   ]
  },
  {
   "cell_type": "code",
   "execution_count": 27,
   "metadata": {},
   "outputs": [],
   "source": [
    "# Keeping the current teams and renaming deccan chargers with Sunrisers Hyderabad\n",
    "df = df.replace(['Deccan Chargers'],'Sunrisers Hyderabad')\n",
    "selected_teams = ['Kolkata Knight Riders','Chennai Super Kings','Rajasthan Royals','Mumbai Indians','Kings XI Punjab',\n",
    "                  'Royal Challengers Bangalore','Delhi Daredevils','Sunrisers Hyderabad']\n",
    "df = df[df['bat_team'].isin(selected_teams) & df['bowl_team'].isin(selected_teams)]"
   ]
  },
  {
   "cell_type": "code",
   "execution_count": 28,
   "metadata": {},
   "outputs": [],
   "source": [
    "#Will take matches played from 2008 to 2016 as training dataset and year 2017 as test dataset\n",
    "df['Year'] = pd.DatetimeIndex(df['date']).year"
   ]
  },
  {
   "cell_type": "code",
   "execution_count": 29,
   "metadata": {},
   "outputs": [],
   "source": [
    "# Removing the first 5 overs from all the matches --- for prediction we need to have at least 5 overs bowled \n",
    "df = df[df['overs']>5]"
   ]
  },
  {
   "cell_type": "code",
   "execution_count": 30,
   "metadata": {},
   "outputs": [],
   "source": [
    "# Make changes in the stadium name of Mohali \n",
    "df['venue'] = df['venue'].replace(['Punjab Cricket Association IS Bindra Stadium, Mohali'],'Punjab Cricket Association Stadium, Mohali')\n"
   ]
  },
  {
   "cell_type": "code",
   "execution_count": 31,
   "metadata": {},
   "outputs": [],
   "source": [
    "# Keeping all the home venues and converting rest into others\n",
    "home_venues = ['M Chinnaswamy Stadium','Punjab Cricket Association Stadium, Mohali','Feroz Shah Kotla','Wankhede Stadium'\n",
    "               ,'Eden Gardens','Sawai Mansingh Stadium','MA Chidambaram Stadium, Chepauk','Rajiv Gandhi International Stadium, Uppal']\n",
    "df['new_venue']=np.where(df['venue'].isin(home_venues),df['venue'],'other')\n",
    "df.drop(columns=['venue','date'],axis =1,inplace= True)"
   ]
  },
  {
   "cell_type": "code",
   "execution_count": 32,
   "metadata": {},
   "outputs": [],
   "source": [
    "df.rename(columns ={'new_venue':'venue'},inplace=True)"
   ]
  },
  {
   "cell_type": "code",
   "execution_count": 33,
   "metadata": {},
   "outputs": [
    {
     "data": {
      "text/plain": [
       "Index(['bat_team', 'bowl_team', 'runs', 'wickets', 'overs', 'runs_last_5',\n",
       "       'wickets_last_5', 'total', 'Year', 'venue'],\n",
       "      dtype='object')"
      ]
     },
     "execution_count": 33,
     "metadata": {},
     "output_type": "execute_result"
    }
   ],
   "source": [
    "df.columns"
   ]
  },
  {
   "cell_type": "code",
   "execution_count": 34,
   "metadata": {},
   "outputs": [],
   "source": [
    "# Convert the categorical variable into dummy variables \n",
    "df_new = pd.get_dummies(data=df, columns = ['bat_team','bowl_team','venue'],drop_first=True)\n"
   ]
  },
  {
   "cell_type": "code",
   "execution_count": 35,
   "metadata": {},
   "outputs": [
    {
     "data": {
      "text/plain": [
       "Index(['runs', 'wickets', 'overs', 'runs_last_5', 'wickets_last_5', 'total',\n",
       "       'Year', 'bat_team_Delhi Daredevils', 'bat_team_Kings XI Punjab',\n",
       "       'bat_team_Kolkata Knight Riders', 'bat_team_Mumbai Indians',\n",
       "       'bat_team_Rajasthan Royals', 'bat_team_Royal Challengers Bangalore',\n",
       "       'bat_team_Sunrisers Hyderabad', 'bowl_team_Delhi Daredevils',\n",
       "       'bowl_team_Kings XI Punjab', 'bowl_team_Kolkata Knight Riders',\n",
       "       'bowl_team_Mumbai Indians', 'bowl_team_Rajasthan Royals',\n",
       "       'bowl_team_Royal Challengers Bangalore',\n",
       "       'bowl_team_Sunrisers Hyderabad', 'venue_Feroz Shah Kotla',\n",
       "       'venue_M Chinnaswamy Stadium', 'venue_MA Chidambaram Stadium, Chepauk',\n",
       "       'venue_Punjab Cricket Association Stadium, Mohali',\n",
       "       'venue_Rajiv Gandhi International Stadium, Uppal',\n",
       "       'venue_Sawai Mansingh Stadium', 'venue_Wankhede Stadium',\n",
       "       'venue_other'],\n",
       "      dtype='object')"
      ]
     },
     "execution_count": 35,
     "metadata": {},
     "output_type": "execute_result"
    }
   ],
   "source": [
    "df_new.columns"
   ]
  },
  {
   "cell_type": "code",
   "execution_count": 36,
   "metadata": {},
   "outputs": [],
   "source": [
    "df_new = df_new[['bat_team_Delhi Daredevils','bat_team_Kings XI Punjab',\n",
    "       'bat_team_Kolkata Knight Riders', 'bat_team_Mumbai Indians',\n",
    "       'bat_team_Rajasthan Royals', 'bat_team_Royal Challengers Bangalore',\n",
    "       'bat_team_Sunrisers Hyderabad', 'bowl_team_Delhi Daredevils',\n",
    "       'bowl_team_Kings XI Punjab', 'bowl_team_Kolkata Knight Riders',\n",
    "       'bowl_team_Mumbai Indians', 'bowl_team_Rajasthan Royals',\n",
    "       'bowl_team_Royal Challengers Bangalore',\n",
    "       'bowl_team_Sunrisers Hyderabad', 'venue_Feroz Shah Kotla',\n",
    "       'venue_M Chinnaswamy Stadium', 'venue_MA Chidambaram Stadium, Chepauk',\n",
    "       'venue_Punjab Cricket Association Stadium, Mohali',\n",
    "       'venue_Rajiv Gandhi International Stadium, Uppal',\n",
    "       'venue_Sawai Mansingh Stadium', 'venue_Wankhede Stadium',\n",
    "       'venue_other','runs', 'wickets', 'overs', 'runs_last_5', 'wickets_last_5','total','Year']]"
   ]
  },
  {
   "cell_type": "code",
   "execution_count": 37,
   "metadata": {},
   "outputs": [
    {
     "data": {
      "text/plain": [
       "Index(['bat_team_Delhi Daredevils', 'bat_team_Kings XI Punjab',\n",
       "       'bat_team_Kolkata Knight Riders', 'bat_team_Mumbai Indians',\n",
       "       'bat_team_Rajasthan Royals', 'bat_team_Royal Challengers Bangalore',\n",
       "       'bat_team_Sunrisers Hyderabad', 'bowl_team_Delhi Daredevils',\n",
       "       'bowl_team_Kings XI Punjab', 'bowl_team_Kolkata Knight Riders',\n",
       "       'bowl_team_Mumbai Indians', 'bowl_team_Rajasthan Royals',\n",
       "       'bowl_team_Royal Challengers Bangalore',\n",
       "       'bowl_team_Sunrisers Hyderabad', 'venue_Feroz Shah Kotla',\n",
       "       'venue_M Chinnaswamy Stadium', 'venue_MA Chidambaram Stadium, Chepauk',\n",
       "       'venue_Punjab Cricket Association Stadium, Mohali',\n",
       "       'venue_Rajiv Gandhi International Stadium, Uppal',\n",
       "       'venue_Sawai Mansingh Stadium', 'venue_Wankhede Stadium', 'venue_other',\n",
       "       'runs', 'wickets', 'overs', 'runs_last_5', 'wickets_last_5', 'total',\n",
       "       'Year'],\n",
       "      dtype='object')"
      ]
     },
     "execution_count": 37,
     "metadata": {},
     "output_type": "execute_result"
    }
   ],
   "source": [
    "df_new.columns"
   ]
  },
  {
   "cell_type": "code",
   "execution_count": 38,
   "metadata": {},
   "outputs": [],
   "source": [
    "df_train = df_new[df_new['Year'] != 2017]\n",
    "df_test = df_new[df_new['Year']==2017]"
   ]
  },
  {
   "cell_type": "code",
   "execution_count": 39,
   "metadata": {},
   "outputs": [],
   "source": [
    "X_train = df_train.drop(columns = ['total','Year'])\n",
    "y_train = df_train['total']"
   ]
  },
  {
   "cell_type": "code",
   "execution_count": 40,
   "metadata": {},
   "outputs": [],
   "source": [
    "X_test = df_test.drop(columns = ['total','Year'])\n",
    "y_test = df_test['total']"
   ]
  },
  {
   "cell_type": "code",
   "execution_count": 41,
   "metadata": {},
   "outputs": [],
   "source": [
    "from sklearn.linear_model import LinearRegression\n",
    "regression = LinearRegression()"
   ]
  },
  {
   "cell_type": "code",
   "execution_count": 42,
   "metadata": {},
   "outputs": [
    {
     "data": {
      "text/plain": [
       "LinearRegression(copy_X=True, fit_intercept=True, n_jobs=None, normalize=False)"
      ]
     },
     "execution_count": 42,
     "metadata": {},
     "output_type": "execute_result"
    }
   ],
   "source": [
    "regression.fit(X_train,y_train)"
   ]
  },
  {
   "cell_type": "code",
   "execution_count": 43,
   "metadata": {},
   "outputs": [],
   "source": [
    "#Saving Linear Regression Model\n",
    "filename = 'ipl_score_pred.pkl'\n",
    "pickle.dump(regression, open(filename, 'wb'))"
   ]
  },
  {
   "cell_type": "code",
   "execution_count": 44,
   "metadata": {},
   "outputs": [],
   "source": [
    "y_pred = regression.predict(X_test)"
   ]
  },
  {
   "cell_type": "code",
   "execution_count": 45,
   "metadata": {},
   "outputs": [
    {
     "data": {
      "text/plain": [
       "16.359394035797013"
      ]
     },
     "execution_count": 45,
     "metadata": {},
     "output_type": "execute_result"
    }
   ],
   "source": [
    "from sklearn import metrics \n",
    "np.sqrt(metrics.mean_squared_error(y_test, y_pred))"
   ]
  },
  {
   "cell_type": "code",
   "execution_count": 46,
   "metadata": {},
   "outputs": [
    {
     "data": {
      "text/plain": [
       "Index(['bat_team_Delhi Daredevils', 'bat_team_Kings XI Punjab',\n",
       "       'bat_team_Kolkata Knight Riders', 'bat_team_Mumbai Indians',\n",
       "       'bat_team_Rajasthan Royals', 'bat_team_Royal Challengers Bangalore',\n",
       "       'bat_team_Sunrisers Hyderabad', 'bowl_team_Delhi Daredevils',\n",
       "       'bowl_team_Kings XI Punjab', 'bowl_team_Kolkata Knight Riders',\n",
       "       'bowl_team_Mumbai Indians', 'bowl_team_Rajasthan Royals',\n",
       "       'bowl_team_Royal Challengers Bangalore',\n",
       "       'bowl_team_Sunrisers Hyderabad', 'venue_Feroz Shah Kotla',\n",
       "       'venue_M Chinnaswamy Stadium', 'venue_MA Chidambaram Stadium, Chepauk',\n",
       "       'venue_Punjab Cricket Association Stadium, Mohali',\n",
       "       'venue_Rajiv Gandhi International Stadium, Uppal',\n",
       "       'venue_Sawai Mansingh Stadium', 'venue_Wankhede Stadium', 'venue_other',\n",
       "       'runs', 'wickets', 'overs', 'runs_last_5', 'wickets_last_5'],\n",
       "      dtype='object')"
      ]
     },
     "execution_count": 46,
     "metadata": {},
     "output_type": "execute_result"
    }
   ],
   "source": [
    "X_train.columns"
   ]
  },
  {
   "cell_type": "code",
   "execution_count": 52,
   "metadata": {},
   "outputs": [
    {
     "data": {
      "text/plain": [
       "164.95284893845385"
      ]
     },
     "execution_count": 52,
     "metadata": {},
     "output_type": "execute_result"
    }
   ],
   "source": [
    "a = [1,0,0,0,0,0,0,0,0,0,1,0,0,0,1,0,0,0,0,0,0,0,50,2,5.3,48,1]\n",
    "b = np.reshape(a,(1,27))\n",
    "regression.predict(b)[0]"
   ]
  },
  {
   "cell_type": "code",
   "execution_count": null,
   "metadata": {},
   "outputs": [],
   "source": []
  }
 ],
 "metadata": {
  "kernelspec": {
   "display_name": "Python 3",
   "language": "python",
   "name": "python3"
  },
  "language_info": {
   "codemirror_mode": {
    "name": "ipython",
    "version": 3
   },
   "file_extension": ".py",
   "mimetype": "text/x-python",
   "name": "python",
   "nbconvert_exporter": "python",
   "pygments_lexer": "ipython3",
   "version": "3.7.3"
  }
 },
 "nbformat": 4,
 "nbformat_minor": 4
}
